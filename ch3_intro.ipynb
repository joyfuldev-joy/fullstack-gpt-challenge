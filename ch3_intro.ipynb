{
 "cells": [
  {
   "cell_type": "code",
   "execution_count": 36,
   "metadata": {},
   "outputs": [
    {
     "data": {
      "text/plain": [
       "'Hello Jenny, I am an AI assistant. Nice to meet you! How can I help you today?'"
      ]
     },
     "execution_count": 36,
     "metadata": {},
     "output_type": "execute_result"
    }
   ],
   "source": [
    "# ✅ basic\n",
    "from langchain.chat_models import ChatOpenAI\n",
    "\n",
    "chat = ChatOpenAI(temperature=0.7)\n",
    "chat.predict(\"hello? I'am Jenny What's your name?\")"
   ]
  },
  {
   "cell_type": "code",
   "execution_count": null,
   "metadata": {},
   "outputs": [
    {
     "data": {
      "text/plain": [
       "AIMessage(content='반가워요! Nice to meet you too! How can I help you today?')"
      ]
     },
     "execution_count": 6,
     "metadata": {},
     "output_type": "execute_result"
    }
   ],
   "source": [
    "# ✅ messages\n",
    "from langchain.schema import HumanMessage, AIMessage, SystemMessage\n",
    "messages = [\n",
    "            SystemMessage(content = \"you are Korean. You speak mixing English and Korean\" )\n",
    "            , AIMessage(content=\"I'm John\")\n",
    "            , HumanMessage(content=\"Nice to meet you John!\")\n",
    "            ]\n",
    "\n",
    "chat.predict_messages(messages)"
   ]
  },
  {
   "cell_type": "code",
   "execution_count": null,
   "metadata": {},
   "outputs": [
    {
     "data": {
      "text/plain": [
       "'The distance between Korea and the USA varies depending on the specific locations being compared. For example, the distance between Seoul, Korea and Los Angeles, USA is approximately 6,000 miles (9,656 kilometers) when measured in a straight line. However, the distance can be longer or shorter depending on the specific cities or regions being considered.'"
      ]
     },
     "execution_count": 10,
     "metadata": {},
     "output_type": "execute_result"
    }
   ],
   "source": [
    "# ✅ prompt template\n",
    "\n",
    "from langchain.prompts import PromptTemplate, ChatPromptTemplate\n",
    "\n",
    "template = PromptTemplate.from_template (\"what is distance between {country_a} and {country_b}?\")\n",
    "\n",
    "prompt = template.format(country_a=\"Korea\", country_b=\"USA\")\n",
    "\n",
    "chat.predict(prompt)"
   ]
  },
  {
   "cell_type": "code",
   "execution_count": null,
   "metadata": {},
   "outputs": [
    {
     "data": {
      "text/plain": [
       "'One Bible verse that may be fitting for a situation where you are feeling happy and grateful for receiving a job is Philippians 4:13, which states, \"I can do all things through Christ who strengthens me.\" This verse serves as a reminder that God is with you and will give you the strength and abilities needed to succeed in your new job.'"
      ]
     },
     "execution_count": 13,
     "metadata": {},
     "output_type": "execute_result"
    }
   ],
   "source": [
    "# ✅ prompt template \n",
    "\n",
    "template = PromptTemplate.from_template (\"what bible verse do you reccommand when I am in situation {situation}?\")\n",
    "\n",
    "prompt = template.format(situation=\"happy beacause I got a job\")\n",
    "\n",
    "chat.predict(prompt)"
   ]
  },
  {
   "cell_type": "code",
   "execution_count": null,
   "metadata": {},
   "outputs": [
    {
     "data": {
      "text/plain": [
       "AIMessage(content='مرحبا! سعيد بلقائك أيضًا! كيف يمكنني مساعدتك اليوم؟')"
      ]
     },
     "execution_count": 26,
     "metadata": {},
     "output_type": "execute_result"
    }
   ],
   "source": [
    "# ✅ chat promt template\n",
    "template = ChatPromptTemplate.from_messages([\n",
    "            (\"system\",\"you are {a}. You speak {language}\" ),\n",
    "            (\"ai\", \"you soy John\"),\n",
    "            (\"human\",\"Nice to meet you John!\")\n",
    "            ])\n",
    "prompt = template.format_messages(a=\"Arabic\", language=\"Arabic\")\n",
    "chat.predict_messages(prompt)"
   ]
  },
  {
   "cell_type": "code",
   "execution_count": null,
   "metadata": {},
   "outputs": [
    {
     "data": {
      "text/plain": [
       "['a', 'b', 'c']"
      ]
     },
     "execution_count": 28,
     "metadata": {},
     "output_type": "execute_result"
    }
   ],
   "source": [
    "# ✅ output parser\n",
    "from langchain.schema import BaseOutputParser\n",
    "\n",
    "class CommaOutputParser(BaseOutputParser):\n",
    "    def parse(self, output):\n",
    "        items = output.strip().split(\",\")\n",
    "        return list(map(str.strip, items))\n",
    "      \n",
    "p = CommaOutputParser()\n",
    "p.parse(\"a,  b,c\")\n"
   ]
  },
  {
   "cell_type": "code",
   "execution_count": 40,
   "metadata": {},
   "outputs": [
    {
     "data": {
      "text/plain": [
       "AIMessage(content=\"['[ 빌립보서 4장 8절]', '무엇에든지 참되로요, 무엇에든지 도리어, 무엇에든지 의로우, 무엇에든지 정결하, 무엇에든지 사랑 받는 것, 무슨 덕 있으면 이것을 생각하라.', '하나님의 뜻을 따르며 그분과의 관골을 유지해가며 새로운 도전을 위해 힘을 내는 것도 좋은 방법이 될 것이다. 힘내세요!']\")"
      ]
     },
     "execution_count": 40,
     "metadata": {},
     "output_type": "execute_result"
    }
   ],
   "source": [
    "# ✅ chat prompt template + parser\n",
    "\n",
    "template = ChatPromptTemplate.from_messages([\n",
    "  (\"system\" , \"너는 이사람의 {situation}에 맞는 성경을 추천해줘야하는데 리스트로 반환해줘 여러절도 괜찮아 괜찮아 반환하는 결과가 첫번째 아이템은 제목 n장 m~l 절, 두번째 아이템은 본문구절, 마지막으로는 추가적으로 해주고 싶은 말 이렇게 세가지를 담은 리스트로 부탁해\"),\n",
    "  (\"ai\",\"('[ 마가복음 9장 23-24절]', '할 수 있거든이 무슨 말이냐, 믿는 자에게는 능치 못할 일이 없느니라 ','이 말씀을 너의 맘에 새기며 주님과 함께 집중해가길')\"),\n",
    "  (\"human\" , \"나 이직준비를하는데 다른 재밌는것들이 많이 보여서 집중이 잘안돼 이럴때 어떤 성경구절을 읽으면 좋을까?\")\n",
    "  ])\n",
    "\n",
    "prompt = template.format_messages(situation=\"이직준비를하는데 다른 재밌는것들이 많이 보여서 집중이 잘안돼 이럴때 어떤 성경구절을 읽으면 좋을까?\")\n",
    "chat.predict_messages(prompt)\n"
   ]
  },
  {
   "cell_type": "code",
   "execution_count": 52,
   "metadata": {},
   "outputs": [
    {
     "data": {
      "text/plain": [
       "AIMessage(content='Australia, Japan, Italy')"
      ]
     },
     "execution_count": 52,
     "metadata": {},
     "output_type": "execute_result"
    }
   ],
   "source": [
    "# ✅ chat prompt template + parser\n",
    "\n",
    "template = ChatPromptTemplate.from_messages([\n",
    "  (\"system\" , \"only return list. list length is {max_item}. and split with comma, if you don't know, just return empty list\"),\n",
    "  (\"human\" , \"{question}\")\n",
    "  ])\n",
    "\n",
    "prompt = template.format_messages(max_item=3,question=\"tell me country name to travel\")\n",
    "chat.predict_messages(prompt)\n"
   ]
  },
  {
   "cell_type": "code",
   "execution_count": null,
   "metadata": {},
   "outputs": [
    {
     "data": {
      "text/plain": [
       "['cat', 'dog', 'rabbit']"
      ]
     },
     "execution_count": 53,
     "metadata": {},
     "output_type": "execute_result"
    }
   ],
   "source": [
    "# ✅ chain : more efficient way to use langchain expression\n",
    "chain = template | chat | CommaOutputParser() # chat predict -> output parser method 호출이 자동으로 됨\n",
    "chain.invoke({\"max_item\": 3, \"question\": \"tell me animal names\"})"
   ]
  },
  {
   "cell_type": "code",
   "execution_count": null,
   "metadata": {},
   "outputs": [
    {
     "name": "stdout",
     "output_type": "stream",
     "text": [
      "Great choice! Here's a simple recipe for Bibimbap, a popular Korean dish that consists of mixed rice with vegetables, meat, and a spicy sauce. \n",
      "\n",
      "Ingredients:\n",
      "- 1 cup of cooked white rice\n",
      "- 1 carrot, julienned\n",
      "- 1 zucchini, julienned\n",
      "- 1 cup of bean sprouts\n",
      "- 1 cup of spinach\n",
      "- 1/2 pound of beef (you can use ground beef or thinly sliced beef)\n",
      "- 2 cloves of garlic, minced\n",
      "- 2 tablespoons of soy sauce\n",
      "- 1 tablespoon of sesame oil\n",
      "- 1 tablespoon of gochujang (Korean red chili paste)\n",
      "- 1 tablespoon of vegetable oil\n",
      "- Salt and pepper to taste\n",
      "- Sesame seeds for garnish\n",
      "- Fried egg (optional)\n",
      "\n",
      "Instructions:\n",
      "1. Cook the white rice according to the package instructions and set aside.\n",
      "2. In a small bowl, mix the minced garlic, soy sauce, sesame oil, and gochujang to make the sauce. Set aside.\n",
      "3. Heat the vegetable oil in a pan over medium heat. Add the beef and cook until browned. Season with salt and pepper to taste. Set aside.\n",
      "4. In the same pan, add a little more oil if needed and stir-fry the carrot and zucchini until slightly softened. Season with salt and pepper. Set aside.\n",
      "5. Blanch the bean sprouts and spinach in boiling water for a few minutes until wilted. Drain and squeeze out excess water. Season with salt and sesame oil.\n",
      "6. To assemble the Bibimbap, place a serving of rice in a bowl. Arrange the cooked beef, carrot, zucchini, bean sprouts, and spinach on top of the rice.\n",
      "7. Drizzle the spicy sauce over the ingredients.\n",
      "8. Garnish with sesame seeds and a fried egg if desired.\n",
      "9. Mix everything together before eating to combine all the flavors.\n",
      "\n",
      "Enjoy your homemade Bibimbap!안녕하세요! Bibimbap 레시피를 공유해 주셔서 감사합니다. 이 레시피를 채식주의자용으로 변형해 볼까요?\n",
      "\n",
      "대체재료 및 대체 방법:\n",
      "- 쇠고기: 쇠고기 대신 쇠고기 대용품으로 대파나 버섯을 사용할 수 있습니다. 쇠고기 대신 대파를 사용할 경우, 대파를 얇게 썰어서 소금, 후추, 간장, 참기름으로 조리한 후 불고기처럼 활용할 수 있습니다.\n",
      "- 계란: 계란은 선택 사항이므로 생략하거나 대체재료로 토피를 사용할 수 있습니다. 토피는 두부를 채 썰어 소금, 후추, 간장, 참기름으로 볶아 계란 대용품으로 활용할 수 있습니다.\n",
      "\n",
      "그 외의 재료는 레시피에 나열된 대로 준비하고 조리하시면 됩니다. Bibimbap을 즐기세요!"
     ]
    },
    {
     "data": {
      "text/plain": [
       "AIMessageChunk(content='안녕하세요! Bibimbap 레시피를 공유해 주셔서 감사합니다. 이 레시피를 채식주의자용으로 변형해 볼까요?\\n\\n대체재료 및 대체 방법:\\n- 쇠고기: 쇠고기 대신 쇠고기 대용품으로 대파나 버섯을 사용할 수 있습니다. 쇠고기 대신 대파를 사용할 경우, 대파를 얇게 썰어서 소금, 후추, 간장, 참기름으로 조리한 후 불고기처럼 활용할 수 있습니다.\\n- 계란: 계란은 선택 사항이므로 생략하거나 대체재료로 토피를 사용할 수 있습니다. 토피는 두부를 채 썰어 소금, 후추, 간장, 참기름으로 볶아 계란 대용품으로 활용할 수 있습니다.\\n\\n그 외의 재료는 레시피에 나열된 대로 준비하고 조리하시면 됩니다. Bibimbap을 즐기세요!')"
      ]
     },
     "execution_count": 63,
     "metadata": {},
     "output_type": "execute_result"
    }
   ],
   "source": [
    "from langchain.callbacks import StreamingStdOutCallbackHandler\n",
    "# ✅ chain \n",
    "chat = ChatOpenAI(temperature=0.1, streaming=True, callbacks=[StreamingStdOutCallbackHandler()])\n",
    "chef_prompt = ChatPromptTemplate.from_messages([\n",
    "  (\"system\",\"You are a world-class international chef. You create easy to followe recipes for any types of cuisin with easy to find ingredients\"),\n",
    "  (\"human\",\"I want to cook {cuisine} food.\")\n",
    "])\n",
    "\n",
    "chef_chain = chef_prompt | chat \n",
    "\n",
    "# 내가 말하는 요리법을 채식 요리로 변경을 해주는 프롬프트\n",
    "veg_chef_prompt = ChatPromptTemplate.from_messages([\n",
    "  (\"system\",\"You speaks only Korean, You are a vegeterian chef specialized on making traditional recipies vegitarian. You find alternative ingredients and explain their preparation. You don't radically modify the recipe. If there is no alternative for a food just say you don't know how to replace it.\"),\n",
    "  (\"human\",\"{recipe}\"),\n",
    "])\n",
    "\n",
    "veg_chain = veg_chef_prompt | chat\n",
    "\n",
    "final_chain = { \"recipe\": chef_chain} | veg_chain\n",
    "\n",
    "final_chain.invoke({\"cuisine\": \"Korean\"})\n"
   ]
  }
 ],
 "metadata": {
  "kernelspec": {
   "display_name": "env",
   "language": "python",
   "name": "python3"
  },
  "language_info": {
   "codemirror_mode": {
    "name": "ipython",
    "version": 3
   },
   "file_extension": ".py",
   "mimetype": "text/x-python",
   "name": "python",
   "nbconvert_exporter": "python",
   "pygments_lexer": "ipython3",
   "version": "3.10.8"
  }
 },
 "nbformat": 4,
 "nbformat_minor": 2
}
