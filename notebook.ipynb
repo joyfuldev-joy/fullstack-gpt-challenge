{
 "cells": [
  {
   "cell_type": "code",
   "execution_count": 10,
   "metadata": {},
   "outputs": [
    {
     "name": "stdout",
     "output_type": "stream",
     "text": [
      "\n",
      "\n",
      "\u001b[1m> Entering new SimpleSequentialChain chain...\u001b[0m\n",
      "\u001b[36;1m\u001b[1;3mDynamic and fast,\n",
      "JavaScript dances on screens,\n",
      "Crafting web dreams true.\u001b[0m\n",
      "\u001b[33;1m\u001b[1;3mThis Haiku is describing the programming language JavaScript in a positive light. The first line, \"Dynamic and fast,\" suggests that JavaScript is a versatile and efficient language. The second line, \"JavaScript dances on screens,\" paints a vivid picture of the language in action, showcasing its ability to bring dynamic and interactive elements to websites. The final line, \"Crafting web dreams true,\" signifies that JavaScript is a powerful tool for creating engaging and functional web experiences. Overall, this Haiku conveys the idea that JavaScript is a dynamic and essential language for web development, capable of turning creative visions into reality.\u001b[0m\n",
      "\n",
      "\u001b[1m> Finished chain.\u001b[0m\n"
     ]
    },
    {
     "data": {
      "text/plain": [
       "'This Haiku is describing the programming language JavaScript in a positive light. The first line, \"Dynamic and fast,\" suggests that JavaScript is a versatile and efficient language. The second line, \"JavaScript dances on screens,\" paints a vivid picture of the language in action, showcasing its ability to bring dynamic and interactive elements to websites. The final line, \"Crafting web dreams true,\" signifies that JavaScript is a powerful tool for creating engaging and functional web experiences. Overall, this Haiku conveys the idea that JavaScript is a dynamic and essential language for web development, capable of turning creative visions into reality.'"
      ]
     },
     "execution_count": 10,
     "metadata": {},
     "output_type": "execute_result"
    }
   ],
   "source": [
    "from langchain.llms import OpenAI\n",
    "from langchain.chat_models import ChatOpenAI\n",
    "from langchain.prompts import ChatPromptTemplate\n",
    "from langchain.chains import LLMChain, SimpleSequentialChain\n",
    "\n",
    "\n",
    "llm = OpenAI(model_name=\"gpt-3.5-turbo-instruct\")\n",
    "chat = ChatOpenAI(model_name=\"gpt-3.5-turbo\")\n",
    "\n",
    "# First Chain: Generates a Haiku about a given programming language\n",
    "haiku_prompt = ChatPromptTemplate.from_template(\n",
    "    \"Write a Haiku about the programming language {language}. It should capture its essence and characteristics.\"\n",
    ")\n",
    "haiku_chain = LLMChain(llm=ChatOpenAI(model=\"gpt-3.5-turbo\"), prompt=haiku_prompt)\n",
    "\n",
    "# Second Chain: Explains the Haiku\n",
    "explanation_prompt = ChatPromptTemplate.from_template(\n",
    "    \"Explain the meaning of the following Haiku about a programming language:\\n\\n{haiku}\\n\\nProvide an insightful explanation.\"\n",
    ")\n",
    "explanation_chain = LLMChain(llm=ChatOpenAI(model=\"gpt-3.5-turbo\"), prompt=explanation_prompt)\n",
    "\n",
    "# Chain them together\n",
    "final_chain = SimpleSequentialChain(chains=[haiku_chain, explanation_chain], verbose=True)\n",
    "\n",
    "final_chain.run(\"javascript\")"
   ]
  },
  {
   "cell_type": "code",
   "execution_count": null,
   "metadata": {},
   "outputs": [
    {
     "data": {
      "text/plain": [
       "7"
      ]
     },
     "execution_count": 6,
     "metadata": {},
     "output_type": "execute_result"
    }
   ],
   "source": [
    "a+c"
   ]
  }
 ],
 "metadata": {
  "kernelspec": {
   "display_name": "env",
   "language": "python",
   "name": "python3"
  },
  "language_info": {
   "codemirror_mode": {
    "name": "ipython",
    "version": 3
   },
   "file_extension": ".py",
   "mimetype": "text/x-python",
   "name": "python",
   "nbconvert_exporter": "python",
   "pygments_lexer": "ipython3",
   "version": "3.10.8"
  }
 },
 "nbformat": 4,
 "nbformat_minor": 2
}
