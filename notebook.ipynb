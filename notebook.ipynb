{
 "cells": [
  {
   "cell_type": "code",
   "execution_count": null,
   "metadata": {},
   "outputs": [
    {
     "name": "stdout",
     "output_type": "stream",
     "text": [
      "\n",
      "\n",
      "\u001b[1m> Entering new SimpleSequentialChain chain...\u001b[0m\n",
      "\u001b[36;1m\u001b[1;3mDynamic and fast\n",
      "JavaScript weaves magic code\n",
      "Web's heart beats with it\u001b[0m\n",
      "\u001b[33;1m\u001b[1;3mThis Haiku is describing JavaScript, a popular programming language used for building dynamic and interactive websites. The first line, \"Dynamic and fast,\" highlights the dynamic nature of JavaScript, which allows for real-time changes and updates on web pages. The second line, \"JavaScript weaves magic code,\" suggests that JavaScript has the ability to create powerful and engaging features on websites. Finally, the third line, \"Web's heart beats with it,\" emphasizes the importance of JavaScript in the functioning and overall user experience of the web. Overall, this Haiku captures the essence of JavaScript as a versatile and essential tool for web development.\u001b[0m\n",
      "\n",
      "\u001b[1m> Finished chain.\u001b[0m\n"
     ]
    },
    {
     "data": {
      "text/plain": [
       "'This Haiku is describing JavaScript, a popular programming language used for building dynamic and interactive websites. The first line, \"Dynamic and fast,\" highlights the dynamic nature of JavaScript, which allows for real-time changes and updates on web pages. The second line, \"JavaScript weaves magic code,\" suggests that JavaScript has the ability to create powerful and engaging features on websites. Finally, the third line, \"Web\\'s heart beats with it,\" emphasizes the importance of JavaScript in the functioning and overall user experience of the web. Overall, this Haiku captures the essence of JavaScript as a versatile and essential tool for web development.'"
      ]
     },
     "execution_count": 17,
     "metadata": {},
     "output_type": "execute_result"
    }
   ],
   "source": [
    "from langchain.llms import OpenAI\n",
    "from langchain.chat_models import ChatOpenAI\n",
    "from langchain.prompts import ChatPromptTemplate,PromptTemplate\n",
    "from langchain.chains import LLMChain, SimpleSequentialChain\n",
    "\n",
    "\n",
    "llm = OpenAI(model_name=\"gpt-3.5-turbo-instruct\")\n",
    "chat = ChatOpenAI(model_name=\"gpt-3.5-turbo\")\n",
    "\n",
    "# First Chain: Generates a Haiku about a given programming language\n",
    "haiku_prompt = ChatPromptTemplate.from_template(\n",
    "    \"Write a Haiku about the programming language {language}. It should capture its essence and characteristics.\"\n",
    ")\n",
    "haiku_chain = LLMChain(llm=ChatOpenAI(model=\"gpt-3.5-turbo\"), prompt=haiku_prompt)\n",
    "\n",
    "# Second Chain: Explains the Haiku\n",
    "explanation_prompt = ChatPromptTemplate.from_template(\n",
    "    \"Explain the meaning of the following Haiku about a programming language:\\n\\n{haiku}\\n\\nProvide an insightful explanation.\"\n",
    ")\n",
    "explanation_chain = LLMChain(llm=ChatOpenAI(model=\"gpt-3.5-turbo\"), prompt=explanation_prompt)\n",
    "\n",
    "# Chain them together\n",
    "final_chain = SimpleSequentialChain(chains=[haiku_chain, explanation_chain], verbose=True)\n",
    "\n",
    "final_chain.run(\"javascript\")"
   ]
  },
  {
   "cell_type": "code",
   "execution_count": 23,
   "metadata": {},
   "outputs": [
    {
     "name": "stdout",
     "output_type": "stream",
     "text": [
      "**제목:** 가나의 혼인잔치\n",
      "**감독:** 조지 클루니\n",
      "**주연:** 조지 클루니, 애미 아담스, 존 트라볼타, 크리스토퍼 워컨\n",
      "**예산:** 알려지지 않음\n",
      "**박스오피스 수익:** 3,100만 달러\n",
      "**장르:** 코미디, 드라마\n",
      "**시놉시스:** 1950년대 미국, 빈곤한 가나와 그의 아내 로즈는 부자 가족의 혼인식에 초대받게 된다. 그러나 가난한 가나와 로즈가 혼인식에 참석하게 되면서 예상치 못한 사건이 벌어지게 된다.\n"
     ]
    }
   ],
   "source": [
    "\n",
    "from langchain.prompts import PromptTemplate\n",
    "from langchain.prompts.few_shot import FewShotPromptTemplate\n",
    "\n",
    "# ✅ 예제 데이터 (Few-Shot Learning)\n",
    "examples = [\n",
    "    {\n",
    "        \"movie\": \"인셉션\",\n",
    "        \"response\": (\n",
    "            \"**제목:** 인셉션\\n\"\n",
    "            \"**감독:** 크리스토퍼 놀란\\n\"\n",
    "            \"**주연:** 레오나르도 디카프리오, 조셉 고든 레빗, 엘리엇 페이지, 톰 하디\\n\"\n",
    "            \"**예산:** 1억 6천만 달러\\n\"\n",
    "            \"**박스오피스 수익:** 8억 2,990만 달러\\n\"\n",
    "            \"**장르:** SF, 스릴러\\n\"\n",
    "            \"**시놉시스:** 꿈속에서 정보를 훔치는 특수 요원 '돔 코브'는 기억을 지울 수 있는 새로운 임무를 맡게 된다. 그러나 꿈의 세계에서 현실과 환상이 뒤섞이며 예상치 못한 위기가 닥친다.\"\n",
    "        ),\n",
    "    },\n",
    "    {\n",
    "        \"movie\": \"대부\",\n",
    "        \"response\": (\n",
    "            \"**제목:** 대부\\n\"\n",
    "            \"**감독:** 프란시스 포드 코폴라\\n\"\n",
    "            \"**주연:** 말론 브란도, 알 파치노, 제임스 칸, 다이안 키튼\\n\"\n",
    "            \"**예산:** 600~720만 달러\\n\"\n",
    "            \"**박스오피스 수익:** 2억 5천만~2억 8천 7백만 달러\\n\"\n",
    "            \"**장르:** 범죄, 드라마\\n\"\n",
    "            \"**시놉시스:** 뉴욕 마피아의 대부 비토 코를레오네는 조직을 이끌어가지만, 암살 시도 이후 아들 마이클 코를레오네가 가업을 물려받으며 변화가 찾아온다.\"\n",
    "        ),\n",
    "    }\n",
    "]\n",
    "\n",
    "# ✅ 예제 출력 형식을 위한 프롬프트 템플릿\n",
    "example_prompt = PromptTemplate.from_template(\n",
    "    \"영화 제목: {movie}\\n응답:\\n{response}\"\n",
    ")\n",
    "\n",
    "# ✅ FewShotPromptTemplate 생성\n",
    "few_shot_prompt = FewShotPromptTemplate(\n",
    "    examples=examples,\n",
    "    example_prompt=example_prompt,\n",
    "    prefix=\"당신은 영화 데이터베이스 전문가입니다. 주어진 영화 제목에 대해 항상 동일한 형식으로 정보를 제공합니다.\",\n",
    "    suffix=\"영화 제목: {movie}\\n응답:\",\n",
    "    input_variables=[\"movie\"]\n",
    ")\n",
    "\n",
    "# ✅ LLM 체인 생성\n",
    "llm = ChatOpenAI(model_name=\"gpt-3.5-turbo\")\n",
    "movie_chain = LLMChain(llm=llm, prompt=few_shot_prompt)\n",
    "\n",
    "# ✅ 영화 정보를 가져오는 함수\n",
    "def get_movie_details(movie_name):\n",
    "    return movie_chain.run({\"movie\": movie_name})\n",
    "\n",
    "# ✅ 실행 예제\n",
    "movie_name = \"가나의 혼인잔치\"  # 원하는 영화 제목으로 변경 가능\n",
    "result = get_movie_details(movie_name)\n",
    "\n",
    "print(result)"
   ]
  },
  {
   "cell_type": "code",
   "execution_count": null,
   "metadata": {},
   "outputs": [],
   "source": []
  }
 ],
 "metadata": {
  "kernelspec": {
   "display_name": "env",
   "language": "python",
   "name": "python3"
  },
  "language_info": {
   "codemirror_mode": {
    "name": "ipython",
    "version": 3
   },
   "file_extension": ".py",
   "mimetype": "text/x-python",
   "name": "python",
   "nbconvert_exporter": "python",
   "pygments_lexer": "ipython3",
   "version": "3.10.8"
  }
 },
 "nbformat": 4,
 "nbformat_minor": 2
}
